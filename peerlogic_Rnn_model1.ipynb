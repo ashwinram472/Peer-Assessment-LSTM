{
  "nbformat": 4,
  "nbformat_minor": 0,
  "metadata": {
    "kernelspec": {
      "name": "python3",
      "display_name": "Python 3"
    },
    "language_info": {
      "codemirror_mode": {
        "name": "ipython",
        "version": 3
      },
      "file_extension": ".py",
      "mimetype": "text/x-python",
      "name": "python",
      "nbconvert_exporter": "python",
      "pygments_lexer": "ipython3",
      "version": "3.7.4"
    },
    "colab": {
      "name": "peerlogic Rnn model1.ipynb",
      "provenance": [],
      "collapsed_sections": [],
      "include_colab_link": true
    },
    "accelerator": "GPU"
  },
  "cells": [
    {
      "cell_type": "markdown",
      "metadata": {
        "id": "view-in-github",
        "colab_type": "text"
      },
      "source": [
        "<a href=\"https://colab.research.google.com/github/ashwinram472/Peer-Assessment-LSTM/blob/master/peerlogic_Rnn_model1.ipynb\" target=\"_parent\"><img src=\"https://colab.research.google.com/assets/colab-badge.svg\" alt=\"Open In Colab\"/></a>"
      ]
    },
    {
      "cell_type": "code",
      "metadata": {
        "id": "HihtVSmAknec",
        "colab_type": "code",
        "outputId": "1cd7423f-a7b4-4d9d-b172-a7f8c04e996d",
        "colab": {
          "base_uri": "https://localhost:8080/",
          "height": 122
        }
      },
      "source": [
        "from google.colab import drive\n",
        "drive.mount('/content/gdrive')"
      ],
      "execution_count": 1,
      "outputs": [
        {
          "output_type": "stream",
          "text": [
            "Go to this URL in a browser: https://accounts.google.com/o/oauth2/auth?client_id=947318989803-6bn6qk8qdgf4n4g3pfee6491hc0brc4i.apps.googleusercontent.com&redirect_uri=urn%3aietf%3awg%3aoauth%3a2.0%3aoob&response_type=code&scope=email%20https%3a%2f%2fwww.googleapis.com%2fauth%2fdocs.test%20https%3a%2f%2fwww.googleapis.com%2fauth%2fdrive%20https%3a%2f%2fwww.googleapis.com%2fauth%2fdrive.photos.readonly%20https%3a%2f%2fwww.googleapis.com%2fauth%2fpeopleapi.readonly\n",
            "\n",
            "Enter your authorization code:\n",
            "··········\n",
            "Mounted at /content/gdrive\n"
          ],
          "name": "stdout"
        }
      ]
    },
    {
      "cell_type": "code",
      "metadata": {
        "id": "7lcIF9KafWty",
        "colab_type": "code",
        "colab": {}
      },
      "source": [
        "!cp gdrive/My\\ Drive/AI-In-Peer-Assessment/problems_data_3semesters_balanced_cleaned2.csv ."
      ],
      "execution_count": 0,
      "outputs": []
    },
    {
      "cell_type": "code",
      "metadata": {
        "id": "8iz0PMHhkTlB",
        "colab_type": "code",
        "colab": {}
      },
      "source": [
        "import numpy as np\n",
        "# To store data\n",
        "import pandas as pd\n",
        "\n",
        "# To use regular expressions\n",
        "import re\n",
        "\n",
        "#To load and save data\n",
        "import pickle\n",
        "\n",
        "from sklearn.model_selection import train_test_split"
      ],
      "execution_count": 0,
      "outputs": []
    },
    {
      "cell_type": "code",
      "metadata": {
        "id": "WKCnS_d4kTlb",
        "colab_type": "code",
        "colab": {}
      },
      "source": [
        "reviews = pd.read_csv(r\"problems_data_3semesters_balanced_cleaned2.csv\")"
      ],
      "execution_count": 0,
      "outputs": []
    },
    {
      "cell_type": "code",
      "metadata": {
        "id": "Kkg-81gqkTll",
        "colab_type": "code",
        "colab": {}
      },
      "source": [
        "data = reviews.filter([\"REVIEW\",\"TAG\"])"
      ],
      "execution_count": 0,
      "outputs": []
    },
    {
      "cell_type": "code",
      "metadata": {
        "id": "9TPcFUgAkTlx",
        "colab_type": "code",
        "colab": {}
      },
      "source": [
        "data = data.loc[data.REVIEW.apply(lambda x: not isinstance(x, (float, int)))]"
      ],
      "execution_count": 0,
      "outputs": []
    },
    {
      "cell_type": "code",
      "metadata": {
        "id": "vsn_Bc3xkTl8",
        "colab_type": "code",
        "outputId": "73e7c9f4-ecef-41de-e0db-bdedc2785398",
        "colab": {
          "base_uri": "https://localhost:8080/",
          "height": 68
        }
      },
      "source": [
        "\n",
        "data['TAG'].value_counts()"
      ],
      "execution_count": 7,
      "outputs": [
        {
          "output_type": "execute_result",
          "data": {
            "text/plain": [
              "1    9177\n",
              "0    9176\n",
              "Name: TAG, dtype: int64"
            ]
          },
          "metadata": {
            "tags": []
          },
          "execution_count": 7
        }
      ]
    },
    {
      "cell_type": "code",
      "metadata": {
        "id": "wcMTmXbZkTmG",
        "colab_type": "code",
        "colab": {}
      },
      "source": [
        "train_set, test_set = train_test_split(data, test_size=0.20, random_state=42)"
      ],
      "execution_count": 0,
      "outputs": []
    },
    {
      "cell_type": "code",
      "metadata": {
        "id": "0Vf3fgNIkTmV",
        "colab_type": "code",
        "colab": {}
      },
      "source": [
        "train_reviews = list(train_set[\"REVIEW\"])\n",
        "test_reviews = list(test_set[\"REVIEW\"])"
      ],
      "execution_count": 0,
      "outputs": []
    },
    {
      "cell_type": "code",
      "metadata": {
        "id": "j4oA3fY6kTmh",
        "colab_type": "code",
        "colab": {}
      },
      "source": [
        "train_labels = list(train_set[\"TAG\"])\n",
        "test_labels = list(test_set[\"TAG\"])"
      ],
      "execution_count": 0,
      "outputs": []
    },
    {
      "cell_type": "code",
      "metadata": {
        "id": "yKLnL6VMkTmq",
        "colab_type": "code",
        "colab": {}
      },
      "source": [
        "def preprocess(train_reviews):\n",
        "    for i in range(len(train_reviews)):\n",
        "        train_reviews[i] = re.sub('\\d',' ',train_reviews[i]) # Replacing digits by space\n",
        "        train_reviews[i] = re.sub(r'\\s+[a-z][\\s$]', ' ',train_reviews[i]) # Removing single characters and spaces alongside\n",
        "        train_reviews[i] = re.sub(r'\\s+', ' ',train_reviews[i]) # Replacing more than one space with a single space\n",
        "    \n",
        "    for i in range(len(train_reviews)):\n",
        "        if 'www.' in train_reviews[i] or 'http:' in train_reviews[i] or 'https:' in train_reviews[i] or '.com' in train_reviews[i]:\n",
        "            train_reviews[i] = re.sub(r\"([^ ]+(?<=\\.[a-z]{3}))\", \"<url>\", train_reviews[i])\n",
        "        \n",
        "        \n",
        "    return train_reviews\n",
        "\n"
      ],
      "execution_count": 0,
      "outputs": []
    },
    {
      "cell_type": "code",
      "metadata": {
        "id": "wAuEB10YkTm0",
        "colab_type": "code",
        "colab": {}
      },
      "source": [
        "train_reviews = preprocess(train_reviews)\n",
        "test_reviews = preprocess(test_reviews)\n"
      ],
      "execution_count": 0,
      "outputs": []
    },
    {
      "cell_type": "code",
      "metadata": {
        "id": "JmYw_0zlkTm-",
        "colab_type": "code",
        "outputId": "b07ca805-1b9a-45c5-da94-97319d69ef10",
        "colab": {
          "base_uri": "https://localhost:8080/",
          "height": 80
        }
      },
      "source": [
        "\n",
        "# Use Tokenizer to remove punctuations and non-word characters and tokenize the text\n",
        "import os\n",
        "os.environ['KERAS_BACKEND']='tensorflow' # Or TenserFlow\n",
        "from keras.preprocessing.text import Tokenizer\n",
        "from keras.preprocessing.sequence import pad_sequences\n",
        "from keras.layers import *\n",
        "from keras.models import Model\n",
        "from keras.callbacks import ModelCheckpoint"
      ],
      "execution_count": 13,
      "outputs": [
        {
          "output_type": "stream",
          "text": [
            "Using TensorFlow backend.\n"
          ],
          "name": "stderr"
        },
        {
          "output_type": "display_data",
          "data": {
            "text/html": [
              "<p style=\"color: red;\">\n",
              "The default version of TensorFlow in Colab will soon switch to TensorFlow 2.x.<br>\n",
              "We recommend you <a href=\"https://www.tensorflow.org/guide/migrate\" target=\"_blank\">upgrade</a> now \n",
              "or ensure your notebook will continue to use TensorFlow 1.x via the <code>%tensorflow_version 1.x</code> magic:\n",
              "<a href=\"https://colab.research.google.com/notebooks/tensorflow_version.ipynb\" target=\"_blank\">more info</a>.</p>\n"
            ],
            "text/plain": [
              "<IPython.core.display.HTML object>"
            ]
          },
          "metadata": {
            "tags": []
          }
        }
      ]
    },
    {
      "cell_type": "code",
      "metadata": {
        "id": "RMFElbfDkTnG",
        "colab_type": "code",
        "colab": {}
      },
      "source": [
        "MAX_SEQUENCE_LENGTH = 280\n",
        "MAX_NB_WORDS = 280 # This specifies how many top tokens in each review to be stored. Wrongly interpreted as total number of words(token) together in whole dataset\n",
        "EMBEDDING_DIM = 300"
      ],
      "execution_count": 0,
      "outputs": []
    },
    {
      "cell_type": "code",
      "metadata": {
        "id": "jcJHP_tGkTnN",
        "colab_type": "code",
        "outputId": "50e234b6-f571-4103-9c04-de40ad501808",
        "colab": {
          "base_uri": "https://localhost:8080/",
          "height": 34
        }
      },
      "source": [
        "\n",
        "# Takes 5 minutes to run on entire training dataset\n",
        "tokenizer = Tokenizer(num_words=MAX_NB_WORDS)\n",
        "tokenizer.fit_on_texts(train_reviews)\n",
        "train_sequences = tokenizer.texts_to_sequences(train_reviews)\n",
        "\n",
        "test_sequences = tokenizer.texts_to_sequences(test_reviews)\n",
        "\n",
        "word_index = tokenizer.word_index\n",
        "print('Number of Unique Tokens',len(word_index)) # Total 996497 unique words"
      ],
      "execution_count": 15,
      "outputs": [
        {
          "output_type": "stream",
          "text": [
            "Number of Unique Tokens 6990\n"
          ],
          "name": "stdout"
        }
      ]
    },
    {
      "cell_type": "code",
      "metadata": {
        "id": "6fKGBHelkTnX",
        "colab_type": "code",
        "colab": {}
      },
      "source": [
        "#Padding\n",
        "train_sequences_padded = pad_sequences(train_sequences, maxlen=MAX_SEQUENCE_LENGTH)\n",
        "test_sequences_padded = pad_sequences(test_sequences, maxlen=MAX_SEQUENCE_LENGTH)"
      ],
      "execution_count": 0,
      "outputs": []
    },
    {
      "cell_type": "code",
      "metadata": {
        "id": "RApBkixlkLOE",
        "colab_type": "code",
        "colab": {}
      },
      "source": [
        "!cp gdrive/My\\ Drive/Glove/glove100d.txt ."
      ],
      "execution_count": 0,
      "outputs": []
    },
    {
      "cell_type": "code",
      "metadata": {
        "id": "nXJyCEmgqkaj",
        "colab_type": "code",
        "colab": {}
      },
      "source": [
        "!cp gdrive/My\\ Drive/Glove/glove.840B.300d.txt ."
      ],
      "execution_count": 0,
      "outputs": []
    },
    {
      "cell_type": "code",
      "metadata": {
        "id": "KaiiGhgm8uNE",
        "colab_type": "code",
        "colab": {
          "base_uri": "https://localhost:8080/",
          "height": 884
        },
        "outputId": "0526314b-b82d-47d8-f14e-a997189282f4"
      },
      "source": [
        "pip install git+http://github.com/uber/ludwig.git"
      ],
      "execution_count": 25,
      "outputs": [
        {
          "output_type": "stream",
          "text": [
            "Collecting git+http://github.com/uber/ludwig.git\n",
            "  Cloning http://github.com/uber/ludwig.git to /tmp/pip-req-build-7vcmggob\n",
            "  Running command git clone -q http://github.com/uber/ludwig.git /tmp/pip-req-build-7vcmggob\n",
            "Requirement already satisfied: Cython>=0.25 in /usr/local/lib/python3.6/dist-packages (from ludwig==0.2.1) (0.29.14)\n",
            "Requirement already satisfied: h5py>=2.6 in /usr/local/lib/python3.6/dist-packages (from ludwig==0.2.1) (2.8.0)\n",
            "Requirement already satisfied: numpy>=1.15 in /usr/local/lib/python3.6/dist-packages (from ludwig==0.2.1) (1.17.5)\n",
            "Requirement already satisfied: pandas>=0.19 in /usr/local/lib/python3.6/dist-packages (from ludwig==0.2.1) (0.25.3)\n",
            "Requirement already satisfied: scipy>=0.18 in /usr/local/lib/python3.6/dist-packages (from ludwig==0.2.1) (1.4.1)\n",
            "Requirement already satisfied: tabulate>=0.7 in /usr/local/lib/python3.6/dist-packages (from ludwig==0.2.1) (0.8.6)\n",
            "Requirement already satisfied: scikit-learn in /usr/local/lib/python3.6/dist-packages (from ludwig==0.2.1) (0.22.1)\n",
            "Requirement already satisfied: tqdm in /usr/local/lib/python3.6/dist-packages (from ludwig==0.2.1) (4.28.1)\n",
            "Collecting tensorflow==1.15.2\n",
            "\u001b[?25l  Downloading https://files.pythonhosted.org/packages/9a/d9/fd234c7bf68638423fb8e7f44af7fcfce3bcaf416b51e6d902391e47ec43/tensorflow-1.15.2-cp36-cp36m-manylinux2010_x86_64.whl (110.5MB)\n",
            "\u001b[K     |████████████████████████████████| 110.5MB 43kB/s \n",
            "\u001b[?25hRequirement already satisfied: PyYAML>=3.12 in /usr/local/lib/python3.6/dist-packages (from ludwig==0.2.1) (3.13)\n",
            "Requirement already satisfied: absl-py in /usr/local/lib/python3.6/dist-packages (from ludwig==0.2.1) (0.9.0)\n",
            "Requirement already satisfied: six in /usr/local/lib/python3.6/dist-packages (from h5py>=2.6->ludwig==0.2.1) (1.12.0)\n",
            "Requirement already satisfied: python-dateutil>=2.6.1 in /usr/local/lib/python3.6/dist-packages (from pandas>=0.19->ludwig==0.2.1) (2.6.1)\n",
            "Requirement already satisfied: pytz>=2017.2 in /usr/local/lib/python3.6/dist-packages (from pandas>=0.19->ludwig==0.2.1) (2018.9)\n",
            "Requirement already satisfied: joblib>=0.11 in /usr/local/lib/python3.6/dist-packages (from scikit-learn->ludwig==0.2.1) (0.14.1)\n",
            "Requirement already satisfied: termcolor>=1.1.0 in /usr/local/lib/python3.6/dist-packages (from tensorflow==1.15.2->ludwig==0.2.1) (1.1.0)\n",
            "Requirement already satisfied: gast==0.2.2 in /usr/local/lib/python3.6/dist-packages (from tensorflow==1.15.2->ludwig==0.2.1) (0.2.2)\n",
            "Requirement already satisfied: astor>=0.6.0 in /usr/local/lib/python3.6/dist-packages (from tensorflow==1.15.2->ludwig==0.2.1) (0.8.1)\n",
            "Requirement already satisfied: grpcio>=1.8.6 in /usr/local/lib/python3.6/dist-packages (from tensorflow==1.15.2->ludwig==0.2.1) (1.15.0)\n",
            "Requirement already satisfied: keras-preprocessing>=1.0.5 in /usr/local/lib/python3.6/dist-packages (from tensorflow==1.15.2->ludwig==0.2.1) (1.1.0)\n",
            "Requirement already satisfied: wheel>=0.26; python_version >= \"3\" in /usr/local/lib/python3.6/dist-packages (from tensorflow==1.15.2->ludwig==0.2.1) (0.33.6)\n",
            "Requirement already satisfied: opt-einsum>=2.3.2 in /usr/local/lib/python3.6/dist-packages (from tensorflow==1.15.2->ludwig==0.2.1) (3.1.0)\n",
            "Requirement already satisfied: tensorboard<1.16.0,>=1.15.0 in /usr/local/lib/python3.6/dist-packages (from tensorflow==1.15.2->ludwig==0.2.1) (1.15.0)\n",
            "Requirement already satisfied: google-pasta>=0.1.6 in /usr/local/lib/python3.6/dist-packages (from tensorflow==1.15.2->ludwig==0.2.1) (0.1.8)\n",
            "Requirement already satisfied: wrapt>=1.11.1 in /usr/local/lib/python3.6/dist-packages (from tensorflow==1.15.2->ludwig==0.2.1) (1.11.2)\n",
            "Requirement already satisfied: keras-applications>=1.0.8 in /usr/local/lib/python3.6/dist-packages (from tensorflow==1.15.2->ludwig==0.2.1) (1.0.8)\n",
            "Requirement already satisfied: protobuf>=3.6.1 in /usr/local/lib/python3.6/dist-packages (from tensorflow==1.15.2->ludwig==0.2.1) (3.10.0)\n",
            "Requirement already satisfied: tensorflow-estimator==1.15.1 in /usr/local/lib/python3.6/dist-packages (from tensorflow==1.15.2->ludwig==0.2.1) (1.15.1)\n",
            "Requirement already satisfied: werkzeug>=0.11.15 in /usr/local/lib/python3.6/dist-packages (from tensorboard<1.16.0,>=1.15.0->tensorflow==1.15.2->ludwig==0.2.1) (0.16.0)\n",
            "Requirement already satisfied: markdown>=2.6.8 in /usr/local/lib/python3.6/dist-packages (from tensorboard<1.16.0,>=1.15.0->tensorflow==1.15.2->ludwig==0.2.1) (3.1.1)\n",
            "Requirement already satisfied: setuptools>=41.0.0 in /usr/local/lib/python3.6/dist-packages (from tensorboard<1.16.0,>=1.15.0->tensorflow==1.15.2->ludwig==0.2.1) (42.0.2)\n",
            "Building wheels for collected packages: ludwig\n",
            "  Building wheel for ludwig (setup.py) ... \u001b[?25l\u001b[?25hdone\n",
            "  Created wheel for ludwig: filename=ludwig-0.2.1-cp36-none-any.whl size=233119 sha256=5b1a137fe18471c7458dd577d9ec09952e4b2e3a47cd3470144c4ef8a738c898\n",
            "  Stored in directory: /tmp/pip-ephem-wheel-cache-fl2_68o5/wheels/0d/40/9f/388f8abc1b742755cf96c43123fbd8e02bf3022611d4554e0e\n",
            "Successfully built ludwig\n",
            "Installing collected packages: tensorflow, ludwig\n",
            "  Found existing installation: tensorflow 1.15.0\n",
            "    Uninstalling tensorflow-1.15.0:\n",
            "      Successfully uninstalled tensorflow-1.15.0\n",
            "Successfully installed ludwig-0.2.1 tensorflow-1.15.2\n"
          ],
          "name": "stdout"
        },
        {
          "output_type": "display_data",
          "data": {
            "application/vnd.colab-display-data+json": {
              "pip_warning": {
                "packages": [
                  "tensorflow",
                  "tensorflow_core"
                ]
              }
            }
          },
          "metadata": {
            "tags": []
          }
        }
      ]
    },
    {
      "cell_type": "code",
      "metadata": {
        "id": "ilmzKUSu9Ffl",
        "colab_type": "code",
        "colab": {}
      },
      "source": [
        "embeddings_index = {}\n",
        "f = open('glove.840B.300d.txt', encoding='utf8')\n",
        "for line in f:\n",
        "    values = line.split()\n",
        "    word = ''.join(values[:-300])\n",
        "    coefs = np.asarray(values[-300:], dtype='float32')\n",
        "    embeddings_index[word] = coefs\n",
        "f.close()"
      ],
      "execution_count": 0,
      "outputs": []
    },
    {
      "cell_type": "code",
      "metadata": {
        "id": "nzDX-axjkTnf",
        "colab_type": "code",
        "colab": {
          "base_uri": "https://localhost:8080/",
          "height": 316
        },
        "outputId": "ae8824ea-2075-4c4a-d281-bf18796acd82"
      },
      "source": [
        "# embeddings_index = {}\n",
        "# for i, line in enumerate(open('glove.840B.300d.txt',encoding=\"utf8\")):\n",
        "#     values = line.split() # 0 th index will be the word and rest will the embedding vector (size 100 as we have used Glove.6B.100D embedding file) \n",
        "#     embeddings_index[values[0]] = np.asarray(values[1:], dtype='float32')"
      ],
      "execution_count": 24,
      "outputs": [
        {
          "output_type": "error",
          "ename": "ValueError",
          "evalue": "ignored",
          "traceback": [
            "\u001b[0;31m---------------------------------------------------------------------------\u001b[0m",
            "\u001b[0;31mValueError\u001b[0m                                Traceback (most recent call last)",
            "\u001b[0;32m<ipython-input-24-9f175bb6efad>\u001b[0m in \u001b[0;36m<module>\u001b[0;34m()\u001b[0m\n\u001b[1;32m      2\u001b[0m \u001b[0;32mfor\u001b[0m \u001b[0mi\u001b[0m\u001b[0;34m,\u001b[0m \u001b[0mline\u001b[0m \u001b[0;32min\u001b[0m \u001b[0menumerate\u001b[0m\u001b[0;34m(\u001b[0m\u001b[0mopen\u001b[0m\u001b[0;34m(\u001b[0m\u001b[0;34m'glove.840B.300d.txt'\u001b[0m\u001b[0;34m,\u001b[0m\u001b[0mencoding\u001b[0m\u001b[0;34m=\u001b[0m\u001b[0;34m\"utf8\"\u001b[0m\u001b[0;34m)\u001b[0m\u001b[0;34m)\u001b[0m\u001b[0;34m:\u001b[0m\u001b[0;34m\u001b[0m\u001b[0;34m\u001b[0m\u001b[0m\n\u001b[1;32m      3\u001b[0m     \u001b[0mvalues\u001b[0m \u001b[0;34m=\u001b[0m \u001b[0mline\u001b[0m\u001b[0;34m.\u001b[0m\u001b[0msplit\u001b[0m\u001b[0;34m(\u001b[0m\u001b[0;34m)\u001b[0m \u001b[0;31m# 0 th index will be the word and rest will the embedding vector (size 100 as we have used Glove.6B.100D embedding file)\u001b[0m\u001b[0;34m\u001b[0m\u001b[0;34m\u001b[0m\u001b[0m\n\u001b[0;32m----> 4\u001b[0;31m     \u001b[0membeddings_index\u001b[0m\u001b[0;34m[\u001b[0m\u001b[0mvalues\u001b[0m\u001b[0;34m[\u001b[0m\u001b[0;36m0\u001b[0m\u001b[0;34m]\u001b[0m\u001b[0;34m]\u001b[0m \u001b[0;34m=\u001b[0m \u001b[0mnp\u001b[0m\u001b[0;34m.\u001b[0m\u001b[0masarray\u001b[0m\u001b[0;34m(\u001b[0m\u001b[0mvalues\u001b[0m\u001b[0;34m[\u001b[0m\u001b[0;36m1\u001b[0m\u001b[0;34m:\u001b[0m\u001b[0;34m]\u001b[0m\u001b[0;34m,\u001b[0m \u001b[0mdtype\u001b[0m\u001b[0;34m=\u001b[0m\u001b[0;34m'float32'\u001b[0m\u001b[0;34m)\u001b[0m\u001b[0;34m\u001b[0m\u001b[0;34m\u001b[0m\u001b[0m\n\u001b[0m",
            "\u001b[0;32m/usr/local/lib/python3.6/dist-packages/numpy/core/_asarray.py\u001b[0m in \u001b[0;36masarray\u001b[0;34m(a, dtype, order)\u001b[0m\n\u001b[1;32m     83\u001b[0m \u001b[0;34m\u001b[0m\u001b[0m\n\u001b[1;32m     84\u001b[0m     \"\"\"\n\u001b[0;32m---> 85\u001b[0;31m     \u001b[0;32mreturn\u001b[0m \u001b[0marray\u001b[0m\u001b[0;34m(\u001b[0m\u001b[0ma\u001b[0m\u001b[0;34m,\u001b[0m \u001b[0mdtype\u001b[0m\u001b[0;34m,\u001b[0m \u001b[0mcopy\u001b[0m\u001b[0;34m=\u001b[0m\u001b[0;32mFalse\u001b[0m\u001b[0;34m,\u001b[0m \u001b[0morder\u001b[0m\u001b[0;34m=\u001b[0m\u001b[0morder\u001b[0m\u001b[0;34m)\u001b[0m\u001b[0;34m\u001b[0m\u001b[0;34m\u001b[0m\u001b[0m\n\u001b[0m\u001b[1;32m     86\u001b[0m \u001b[0;34m\u001b[0m\u001b[0m\n\u001b[1;32m     87\u001b[0m \u001b[0;34m\u001b[0m\u001b[0m\n",
            "\u001b[0;31mValueError\u001b[0m: could not convert string to float: '.'"
          ]
        }
      ]
    },
    {
      "cell_type": "code",
      "metadata": {
        "id": "fgccLdohkTno",
        "colab_type": "code",
        "colab": {}
      },
      "source": [
        "# create token(words in word index)-embedding mapping\n",
        "embedding_matrix = np.zeros((len(word_index) + 1, 300)) # 100 since embedding_dimesion is 100, +1 because index 0 is reserved in word_index\n",
        "for word, i in word_index.items():\n",
        "    embedding_vector = embeddings_index.get(word)\n",
        "    if embedding_vector is not None:\n",
        "        embedding_matrix[i] = embedding_vector"
      ],
      "execution_count": 0,
      "outputs": []
    },
    {
      "cell_type": "code",
      "metadata": {
        "id": "QYV7UaA4kTnx",
        "colab_type": "code",
        "outputId": "5e013450-26a2-4067-c80b-c5f82c39517c",
        "colab": {
          "base_uri": "https://localhost:8080/",
          "height": 34
        }
      },
      "source": [
        "\n",
        "nonzero_elements = np.count_nonzero(np.count_nonzero(embedding_matrix, axis=1))\n",
        "nonzero_elements / len(word_index)"
      ],
      "execution_count": 28,
      "outputs": [
        {
          "output_type": "execute_result",
          "data": {
            "text/plain": [
              "0.8722460658082976"
            ]
          },
          "metadata": {
            "tags": []
          },
          "execution_count": 28
        }
      ]
    },
    {
      "cell_type": "code",
      "metadata": {
        "id": "AaSlLGrzkTn4",
        "colab_type": "code",
        "colab": {}
      },
      "source": [
        "\n",
        "from sklearn.utils import shuffle\n",
        "x_train, y_train = shuffle(train_sequences_padded, train_labels)\n",
        "x_test, y_test = shuffle(test_sequences_padded,test_labels)\n",
        "y_test1 = y_test[:]"
      ],
      "execution_count": 0,
      "outputs": []
    },
    {
      "cell_type": "code",
      "metadata": {
        "id": "s3P0Tc1ykToA",
        "colab_type": "code",
        "outputId": "1b0bf1cf-2814-4077-cf79-6d410a393312",
        "colab": {
          "base_uri": "https://localhost:8080/",
          "height": 34
        }
      },
      "source": [
        "x_train = np.array(x_train[:])\n",
        "train_labels = [[1,0] if x == 1 else [0,1] for x in y_train[:]] \n",
        "y_train = np.array(train_labels[:])\n",
        "len(x_train),len(y_train)\n",
        "\n",
        "x_test = np.array(x_test[:])\n",
        "test_labels = [[1,0] if x == 1 else [0,1] for x in y_test[:]] \n",
        "y_test = np.array(test_labels[:])\n",
        "len(x_test),len(y_test)"
      ],
      "execution_count": 30,
      "outputs": [
        {
          "output_type": "execute_result",
          "data": {
            "text/plain": [
              "(3671, 3671)"
            ]
          },
          "metadata": {
            "tags": []
          },
          "execution_count": 30
        }
      ]
    },
    {
      "cell_type": "code",
      "metadata": {
        "id": "6zc_ec04kToI",
        "colab_type": "code",
        "outputId": "be8a91c2-c446-4ef6-fef6-a102b338e094",
        "colab": {
          "base_uri": "https://localhost:8080/",
          "height": 323
        }
      },
      "source": [
        "\n",
        "embedding_layer = Embedding(len(word_index) + 1,\n",
        "                            EMBEDDING_DIM,weights=[embedding_matrix],\n",
        "                            input_length=MAX_SEQUENCE_LENGTH,trainable=True)\n",
        "sequence_input = Input(shape=(MAX_SEQUENCE_LENGTH,), dtype='int32')\n",
        "embedded_sequences = embedding_layer(sequence_input)"
      ],
      "execution_count": 31,
      "outputs": [
        {
          "output_type": "stream",
          "text": [
            "WARNING:tensorflow:From /usr/local/lib/python3.6/dist-packages/keras/backend/tensorflow_backend.py:66: The name tf.get_default_graph is deprecated. Please use tf.compat.v1.get_default_graph instead.\n",
            "\n",
            "WARNING:tensorflow:From /usr/local/lib/python3.6/dist-packages/keras/backend/tensorflow_backend.py:541: The name tf.placeholder is deprecated. Please use tf.compat.v1.placeholder instead.\n",
            "\n",
            "WARNING:tensorflow:From /usr/local/lib/python3.6/dist-packages/keras/backend/tensorflow_backend.py:4432: The name tf.random_uniform is deprecated. Please use tf.random.uniform instead.\n",
            "\n",
            "WARNING:tensorflow:From /usr/local/lib/python3.6/dist-packages/keras/backend/tensorflow_backend.py:190: The name tf.get_default_session is deprecated. Please use tf.compat.v1.get_default_session instead.\n",
            "\n",
            "WARNING:tensorflow:From /usr/local/lib/python3.6/dist-packages/keras/backend/tensorflow_backend.py:197: The name tf.ConfigProto is deprecated. Please use tf.compat.v1.ConfigProto instead.\n",
            "\n",
            "WARNING:tensorflow:From /usr/local/lib/python3.6/dist-packages/keras/backend/tensorflow_backend.py:203: The name tf.Session is deprecated. Please use tf.compat.v1.Session instead.\n",
            "\n",
            "WARNING:tensorflow:From /usr/local/lib/python3.6/dist-packages/keras/backend/tensorflow_backend.py:207: The name tf.global_variables is deprecated. Please use tf.compat.v1.global_variables instead.\n",
            "\n",
            "WARNING:tensorflow:From /usr/local/lib/python3.6/dist-packages/keras/backend/tensorflow_backend.py:216: The name tf.is_variable_initialized is deprecated. Please use tf.compat.v1.is_variable_initialized instead.\n",
            "\n",
            "WARNING:tensorflow:From /usr/local/lib/python3.6/dist-packages/keras/backend/tensorflow_backend.py:223: The name tf.variables_initializer is deprecated. Please use tf.compat.v1.variables_initializer instead.\n",
            "\n"
          ],
          "name": "stdout"
        }
      ]
    },
    {
      "cell_type": "code",
      "metadata": {
        "id": "_zIMQBhkkToR",
        "colab_type": "code",
        "outputId": "69d284f1-e91e-4522-e113-fd4c931ae3db",
        "colab": {
          "base_uri": "https://localhost:8080/",
          "height": 102
        }
      },
      "source": [
        "net = Dropout(0.3)(embedded_sequences)\n",
        "net = Bidirectional(LSTM(200,recurrent_dropout=0.3))(net)\n",
        "net = Dropout(0.3)(net)\n",
        "output = Dense(2, activation = 'softmax')(net)\n",
        "model = Model(inputs = sequence_input, outputs = output)"
      ],
      "execution_count": 32,
      "outputs": [
        {
          "output_type": "stream",
          "text": [
            "WARNING:tensorflow:From /usr/local/lib/python3.6/dist-packages/keras/backend/tensorflow_backend.py:148: The name tf.placeholder_with_default is deprecated. Please use tf.compat.v1.placeholder_with_default instead.\n",
            "\n",
            "WARNING:tensorflow:From /usr/local/lib/python3.6/dist-packages/keras/backend/tensorflow_backend.py:3733: calling dropout (from tensorflow.python.ops.nn_ops) with keep_prob is deprecated and will be removed in a future version.\n",
            "Instructions for updating:\n",
            "Please use `rate` instead of `keep_prob`. Rate should be set to `rate = 1 - keep_prob`.\n"
          ],
          "name": "stdout"
        }
      ]
    },
    {
      "cell_type": "code",
      "metadata": {
        "id": "0WEm00eckToZ",
        "colab_type": "code",
        "outputId": "786d2ac3-810a-4e79-b5e2-a7acd85a0fd9",
        "colab": {
          "base_uri": "https://localhost:8080/",
          "height": 425
        }
      },
      "source": [
        "model.compile(optimizer='adam', loss='categorical_crossentropy', metrics=['acc'])\n",
        "model.summary()\n"
      ],
      "execution_count": 33,
      "outputs": [
        {
          "output_type": "stream",
          "text": [
            "WARNING:tensorflow:From /usr/local/lib/python3.6/dist-packages/keras/optimizers.py:793: The name tf.train.Optimizer is deprecated. Please use tf.compat.v1.train.Optimizer instead.\n",
            "\n",
            "WARNING:tensorflow:From /usr/local/lib/python3.6/dist-packages/keras/backend/tensorflow_backend.py:3576: The name tf.log is deprecated. Please use tf.math.log instead.\n",
            "\n",
            "Model: \"model_1\"\n",
            "_________________________________________________________________\n",
            "Layer (type)                 Output Shape              Param #   \n",
            "=================================================================\n",
            "input_1 (InputLayer)         (None, 280)               0         \n",
            "_________________________________________________________________\n",
            "embedding_1 (Embedding)      (None, 280, 300)          2097300   \n",
            "_________________________________________________________________\n",
            "dropout_1 (Dropout)          (None, 280, 300)          0         \n",
            "_________________________________________________________________\n",
            "bidirectional_1 (Bidirection (None, 400)               801600    \n",
            "_________________________________________________________________\n",
            "dropout_2 (Dropout)          (None, 400)               0         \n",
            "_________________________________________________________________\n",
            "dense_1 (Dense)              (None, 2)                 802       \n",
            "=================================================================\n",
            "Total params: 2,899,702\n",
            "Trainable params: 2,899,702\n",
            "Non-trainable params: 0\n",
            "_________________________________________________________________\n"
          ],
          "name": "stdout"
        }
      ]
    },
    {
      "cell_type": "code",
      "metadata": {
        "scrolled": true,
        "id": "XuO9LssTkToh",
        "colab_type": "code",
        "outputId": "ad84f664-38e4-4026-d67f-25e2833af3c9",
        "colab": {
          "base_uri": "https://localhost:8080/",
          "height": 833
        }
      },
      "source": [
        "chkpt=ModelCheckpoint('expertiza_rnn_model.h5',monitor='val_acc',verbose=1,save_best_only=True)\n",
        "model_history = model.fit(x_train, y_train, batch_size=254, epochs=10, validation_split=0.2,callbacks=[chkpt])"
      ],
      "execution_count": 34,
      "outputs": [
        {
          "output_type": "stream",
          "text": [
            "WARNING:tensorflow:From /usr/local/lib/python3.6/dist-packages/tensorflow_core/python/ops/math_grad.py:1424: where (from tensorflow.python.ops.array_ops) is deprecated and will be removed in a future version.\n",
            "Instructions for updating:\n",
            "Use tf.where in 2.0, which has the same broadcast rule as np.where\n",
            "WARNING:tensorflow:From /usr/local/lib/python3.6/dist-packages/keras/backend/tensorflow_backend.py:1033: The name tf.assign_add is deprecated. Please use tf.compat.v1.assign_add instead.\n",
            "\n",
            "WARNING:tensorflow:From /usr/local/lib/python3.6/dist-packages/keras/backend/tensorflow_backend.py:1020: The name tf.assign is deprecated. Please use tf.compat.v1.assign instead.\n",
            "\n",
            "Train on 11745 samples, validate on 2937 samples\n",
            "Epoch 1/10\n",
            "11745/11745 [==============================] - 58s 5ms/step - loss: 0.5036 - acc: 0.7520 - val_loss: 0.4037 - val_acc: 0.8349\n",
            "\n",
            "Epoch 00001: val_acc improved from -inf to 0.83487, saving model to expertiza_rnn_model.h5\n",
            "Epoch 2/10\n",
            "11745/11745 [==============================] - 54s 5ms/step - loss: 0.3789 - acc: 0.8421 - val_loss: 0.3462 - val_acc: 0.8618\n",
            "\n",
            "Epoch 00002: val_acc improved from 0.83487 to 0.86176, saving model to expertiza_rnn_model.h5\n",
            "Epoch 3/10\n",
            "11745/11745 [==============================] - 55s 5ms/step - loss: 0.3483 - acc: 0.8586 - val_loss: 0.3351 - val_acc: 0.8686\n",
            "\n",
            "Epoch 00003: val_acc improved from 0.86176 to 0.86857, saving model to expertiza_rnn_model.h5\n",
            "Epoch 4/10\n",
            "11745/11745 [==============================] - 55s 5ms/step - loss: 0.3314 - acc: 0.8647 - val_loss: 0.3277 - val_acc: 0.8727\n",
            "\n",
            "Epoch 00004: val_acc improved from 0.86857 to 0.87266, saving model to expertiza_rnn_model.h5\n",
            "Epoch 5/10\n",
            "11745/11745 [==============================] - 55s 5ms/step - loss: 0.3242 - acc: 0.8719 - val_loss: 0.3251 - val_acc: 0.8730\n",
            "\n",
            "Epoch 00005: val_acc improved from 0.87266 to 0.87300, saving model to expertiza_rnn_model.h5\n",
            "Epoch 6/10\n",
            "11745/11745 [==============================] - 55s 5ms/step - loss: 0.3103 - acc: 0.8758 - val_loss: 0.3366 - val_acc: 0.8614\n",
            "\n",
            "Epoch 00006: val_acc did not improve from 0.87300\n",
            "Epoch 7/10\n",
            "11745/11745 [==============================] - 55s 5ms/step - loss: 0.3087 - acc: 0.8761 - val_loss: 0.3270 - val_acc: 0.8710\n",
            "\n",
            "Epoch 00007: val_acc did not improve from 0.87300\n",
            "Epoch 8/10\n",
            "11745/11745 [==============================] - 55s 5ms/step - loss: 0.2973 - acc: 0.8795 - val_loss: 0.3249 - val_acc: 0.8665\n",
            "\n",
            "Epoch 00008: val_acc did not improve from 0.87300\n",
            "Epoch 9/10\n",
            "11745/11745 [==============================] - 55s 5ms/step - loss: 0.2956 - acc: 0.8794 - val_loss: 0.3175 - val_acc: 0.8727\n",
            "\n",
            "Epoch 00009: val_acc did not improve from 0.87300\n",
            "Epoch 10/10\n",
            "11745/11745 [==============================] - 55s 5ms/step - loss: 0.2841 - acc: 0.8863 - val_loss: 0.3275 - val_acc: 0.8757\n",
            "\n",
            "Epoch 00010: val_acc improved from 0.87300 to 0.87572, saving model to expertiza_rnn_model.h5\n"
          ],
          "name": "stdout"
        }
      ]
    },
    {
      "cell_type": "code",
      "metadata": {
        "id": "jE81eyP7kToo",
        "colab_type": "code",
        "outputId": "37d51c49-03b0-4f92-e963-3b4ec14929c1",
        "colab": {
          "base_uri": "https://localhost:8080/",
          "height": 68
        }
      },
      "source": [
        "score = model.evaluate(x_test,y_test, verbose=1)\n",
        "print(\"Test Score:\", score[0])\n",
        "print(\"Test Accuracy:\", score[1])"
      ],
      "execution_count": 35,
      "outputs": [
        {
          "output_type": "stream",
          "text": [
            "3671/3671 [==============================] - 43s 12ms/step\n",
            "Test Score: 0.334267405496245\n",
            "Test Accuracy: 0.8714246797451236\n"
          ],
          "name": "stdout"
        }
      ]
    },
    {
      "cell_type": "code",
      "metadata": {
        "id": "ScRY5s10kTou",
        "colab_type": "code",
        "outputId": "e0c04449-0a78-4111-a109-6cc0b6961743",
        "colab": {
          "base_uri": "https://localhost:8080/",
          "height": 573
        }
      },
      "source": [
        "import matplotlib.pyplot as plt\n",
        "\n",
        "plt.plot(model_history.history['acc'])\n",
        "plt.plot(model_history.history['val_acc'])\n",
        "\n",
        "plt.title('model accuracy')\n",
        "plt.ylabel('accuracy')\n",
        "plt.xlabel('epoch')\n",
        "plt.legend(['train','test'], loc = 'upper left')\n",
        "plt.show()\n",
        "\n",
        "plt.plot(model_history.history['loss'])\n",
        "plt.plot(model_history.history['val_loss'])\n",
        "\n",
        "plt.title('model loss')\n",
        "plt.ylabel('loss')\n",
        "plt.xlabel('epoch')\n",
        "plt.legend(['train','test'], loc = 'upper left')\n",
        "plt.show()"
      ],
      "execution_count": 36,
      "outputs": [
        {
          "output_type": "display_data",
          "data": {
            "image/png": "[encoded data removed]",
            "text/plain": [
              "<Figure size 432x288 with 1 Axes>"
            ]
          },
          "metadata": {
            "tags": []
          }
        },
        {
          "output_type": "display_data",
          "data": {
            "image/png": "[encoded data removed]",
            "text/plain": [
              "<Figure size 432x288 with 1 Axes>"
            ]
          },
          "metadata": {
            "tags": []
          }
        }
      ]
    },
    {
      "cell_type": "code",
      "metadata": {
        "id": "pxYYSgPbkTo2",
        "colab_type": "code",
        "colab": {}
      },
      "source": [
        "from sklearn.metrics import f1_score, precision_score, recall_score, confusion_matrix\n",
        "y_pred1 = model.predict(x_test)\n",
        "y_pred = [1 if yt[0]>yt[1] else 0 for yt in y_pred1]"
      ],
      "execution_count": 0,
      "outputs": []
    },
    {
      "cell_type": "code",
      "metadata": {
        "id": "2BncOundkTo_",
        "colab_type": "code",
        "outputId": "4891a3d5-89fb-45c1-b7f6-cf4edd5102df",
        "colab": {
          "base_uri": "https://localhost:8080/",
          "height": 68
        }
      },
      "source": [
        "\n",
        "# Print f1, precision, and recall scores\n",
        "print(\"Precision:\",precision_score(y_test1, y_pred , average=\"macro\"))\n",
        "print(\"Recall:\",recall_score(y_test1, y_pred , average=\"macro\"))\n",
        "print(\"F1:\",f1_score(y_test1, y_pred , average=\"macro\"))\n"
      ],
      "execution_count": 38,
      "outputs": [
        {
          "output_type": "stream",
          "text": [
            "Precision: 0.872968864270026\n",
            "Recall: 0.8711893099126772\n",
            "F1: 0.871234717263807\n"
          ],
          "name": "stdout"
        }
      ]
    },
    {
      "cell_type": "code",
      "metadata": {
        "id": "NMAbY-vjkTpH",
        "colab_type": "code",
        "colab": {}
      },
      "source": [
        "embedding_layer = Embedding(len(word_index) + 1,\n",
        "                            EMBEDDING_DIM,\n",
        "                            input_length=MAX_SEQUENCE_LENGTH,trainable=True)\n",
        "sequence_input = Input(shape=(MAX_SEQUENCE_LENGTH,), dtype='int32')\n",
        "embedded_sequences_1 = embedding_layer(sequence_input)"
      ],
      "execution_count": 0,
      "outputs": []
    },
    {
      "cell_type": "code",
      "metadata": {
        "id": "1_LuYLrRkTpO",
        "colab_type": "code",
        "outputId": "fc691060-f78c-4a6c-fd45-bd4b4c0c3ef9",
        "colab": {
          "base_uri": "https://localhost:8080/",
          "height": 459
        }
      },
      "source": [
        "net1 = Dropout(0.3)(embedded_sequences_1)\n",
        "net1 = Conv1D(50, 3, padding='same', activation='relu')(net1)\n",
        "net1 = AveragePooling1D(pool_size=4)(net1)\n",
        "net1 = LSTM(100, recurrent_dropout=0.3)(net1)\n",
        "net1 = Dropout(0.2)(net1)\n",
        "output1 = Dense(2, activation='softmax')(net1)\n",
        "\n",
        "model5 = Model(inputs = sequence_input, outputs = output1)\n",
        "model5.compile(optimizer='adam', loss='categorical_crossentropy', metrics=['acc'])\n",
        "model5.summary()"
      ],
      "execution_count": 40,
      "outputs": [
        {
          "output_type": "stream",
          "text": [
            "WARNING:tensorflow:From /usr/local/lib/python3.6/dist-packages/keras/backend/tensorflow_backend.py:4271: The name tf.nn.avg_pool is deprecated. Please use tf.nn.avg_pool2d instead.\n",
            "\n",
            "Model: \"model_2\"\n",
            "_________________________________________________________________\n",
            "Layer (type)                 Output Shape              Param #   \n",
            "=================================================================\n",
            "input_2 (InputLayer)         (None, 280)               0         \n",
            "_________________________________________________________________\n",
            "embedding_2 (Embedding)      (None, 280, 300)          2097300   \n",
            "_________________________________________________________________\n",
            "dropout_3 (Dropout)          (None, 280, 300)          0         \n",
            "_________________________________________________________________\n",
            "conv1d_1 (Conv1D)            (None, 280, 50)           45050     \n",
            "_________________________________________________________________\n",
            "average_pooling1d_1 (Average (None, 70, 50)            0         \n",
            "_________________________________________________________________\n",
            "lstm_2 (LSTM)                (None, 100)               60400     \n",
            "_________________________________________________________________\n",
            "dropout_4 (Dropout)          (None, 100)               0         \n",
            "_________________________________________________________________\n",
            "dense_2 (Dense)              (None, 2)                 202       \n",
            "=================================================================\n",
            "Total params: 2,202,952\n",
            "Trainable params: 2,202,952\n",
            "Non-trainable params: 0\n",
            "_________________________________________________________________\n"
          ],
          "name": "stdout"
        }
      ]
    },
    {
      "cell_type": "code",
      "metadata": {
        "id": "5g4FpczukTpV",
        "colab_type": "code",
        "outputId": "13c269c6-457e-440f-f449-a5d1b0dbc88d",
        "colab": {
          "base_uri": "https://localhost:8080/",
          "height": 714
        }
      },
      "source": [
        "chkpt=ModelCheckpoint('expertiza_cnn_rnn_model.h5',monitor='val_acc',verbose=1,save_best_only=True)\n",
        "model_history1 = model5.fit(x_train, y_train, batch_size=100, epochs=10, validation_split=0.1,callbacks=[chkpt])"
      ],
      "execution_count": 41,
      "outputs": [
        {
          "output_type": "stream",
          "text": [
            "Train on 13213 samples, validate on 1469 samples\n",
            "Epoch 1/10\n",
            "13213/13213 [==============================] - 25s 2ms/step - loss: 0.4320 - acc: 0.8062 - val_loss: 0.3608 - val_acc: 0.8489\n",
            "\n",
            "Epoch 00001: val_acc improved from -inf to 0.84888, saving model to expertiza_cnn_rnn_model.h5\n",
            "Epoch 2/10\n",
            "13213/13213 [==============================] - 18s 1ms/step - loss: 0.3305 - acc: 0.8674 - val_loss: 0.3353 - val_acc: 0.8652\n",
            "\n",
            "Epoch 00002: val_acc improved from 0.84888 to 0.86521, saving model to expertiza_cnn_rnn_model.h5\n",
            "Epoch 3/10\n",
            "13213/13213 [==============================] - 18s 1ms/step - loss: 0.3193 - acc: 0.8723 - val_loss: 0.3322 - val_acc: 0.8611\n",
            "\n",
            "Epoch 00003: val_acc did not improve from 0.86521\n",
            "Epoch 4/10\n",
            "13213/13213 [==============================] - 18s 1ms/step - loss: 0.3079 - acc: 0.8792 - val_loss: 0.3343 - val_acc: 0.8700\n",
            "\n",
            "Epoch 00004: val_acc improved from 0.86521 to 0.86998, saving model to expertiza_cnn_rnn_model.h5\n",
            "Epoch 5/10\n",
            "13213/13213 [==============================] - 18s 1ms/step - loss: 0.3049 - acc: 0.8821 - val_loss: 0.3221 - val_acc: 0.8686\n",
            "\n",
            "Epoch 00005: val_acc did not improve from 0.86998\n",
            "Epoch 6/10\n",
            "13213/13213 [==============================] - 18s 1ms/step - loss: 0.2977 - acc: 0.8831 - val_loss: 0.3196 - val_acc: 0.8686\n",
            "\n",
            "Epoch 00006: val_acc did not improve from 0.86998\n",
            "Epoch 7/10\n",
            "13213/13213 [==============================] - 18s 1ms/step - loss: 0.2895 - acc: 0.8881 - val_loss: 0.3220 - val_acc: 0.8693\n",
            "\n",
            "Epoch 00007: val_acc did not improve from 0.86998\n",
            "Epoch 8/10\n",
            "13213/13213 [==============================] - 18s 1ms/step - loss: 0.2839 - acc: 0.8897 - val_loss: 0.3158 - val_acc: 0.8713\n",
            "\n",
            "Epoch 00008: val_acc improved from 0.86998 to 0.87134, saving model to expertiza_cnn_rnn_model.h5\n",
            "Epoch 9/10\n",
            "13213/13213 [==============================] - 18s 1ms/step - loss: 0.2786 - acc: 0.8931 - val_loss: 0.3160 - val_acc: 0.8747\n",
            "\n",
            "Epoch 00009: val_acc improved from 0.87134 to 0.87474, saving model to expertiza_cnn_rnn_model.h5\n",
            "Epoch 10/10\n",
            "13213/13213 [==============================] - 18s 1ms/step - loss: 0.2688 - acc: 0.8943 - val_loss: 0.3219 - val_acc: 0.8713\n",
            "\n",
            "Epoch 00010: val_acc did not improve from 0.87474\n"
          ],
          "name": "stdout"
        }
      ]
    },
    {
      "cell_type": "code",
      "metadata": {
        "id": "4oi1cyx2kTpd",
        "colab_type": "code",
        "colab": {}
      },
      "source": [
        "model.save_weights('expertiza_rnn_model_weights.h5')\n",
        "\n",
        "# Save the model architecture\n",
        "with open('expertiza_rnn_model_architecture.json', 'w') as f:\n",
        "    f.write(model.to_json())"
      ],
      "execution_count": 0,
      "outputs": []
    },
    {
      "cell_type": "code",
      "metadata": {
        "id": "C0afRSgykTpm",
        "colab_type": "code",
        "outputId": "e114ee59-5eee-4e65-bf1a-e37f86d61333",
        "colab": {
          "base_uri": "https://localhost:8080/",
          "height": 68
        }
      },
      "source": [
        "score = model5.evaluate(x_test,y_test, verbose=1)\n",
        "print(\"Test Score:\", score[0])\n",
        "print(\"Test Accuracy:\", score[1])"
      ],
      "execution_count": 43,
      "outputs": [
        {
          "output_type": "stream",
          "text": [
            "3671/3671 [==============================] - 5s 1ms/step\n",
            "Test Score: 0.3388769249359485\n",
            "Test Accuracy: 0.8716970851492147\n"
          ],
          "name": "stdout"
        }
      ]
    },
    {
      "cell_type": "code",
      "metadata": {
        "id": "1u-Fk05BkTpu",
        "colab_type": "code",
        "colab": {}
      },
      "source": [
        "from sklearn.metrics import f1_score, precision_score, recall_score, confusion_matrix\n",
        "y_pred1 = model5.predict(x_test)\n",
        "y_pred = [1 if yt[0]>yt[1] else 0 for yt in y_pred1]"
      ],
      "execution_count": 0,
      "outputs": []
    },
    {
      "cell_type": "code",
      "metadata": {
        "id": "xqYIM4YekTp5",
        "colab_type": "code",
        "outputId": "17ddf63a-d047-4d4c-cc9a-e75711835bc1",
        "colab": {
          "base_uri": "https://localhost:8080/",
          "height": 68
        }
      },
      "source": [
        "# Print f1, precision, and recall scores\n",
        "print(\"Precision:\",precision_score(y_test1, y_pred , average=\"macro\"))\n",
        "print(\"Recall:\",recall_score(y_test1, y_pred , average=\"macro\"))\n",
        "print(\"F1:\",f1_score(y_test1, y_pred , average=\"macro\"))"
      ],
      "execution_count": 45,
      "outputs": [
        {
          "output_type": "stream",
          "text": [
            "Precision: 0.8729188456323843\n",
            "Recall: 0.8714877772362193\n",
            "F1: 0.8715409086441259\n"
          ],
          "name": "stdout"
        }
      ]
    },
    {
      "cell_type": "code",
      "metadata": {
        "id": "He8FQAnWkTp_",
        "colab_type": "code",
        "colab": {}
      },
      "source": [
        ""
      ],
      "execution_count": 0,
      "outputs": []
    }
  ]
}